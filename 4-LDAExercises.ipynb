{
 "cells": [
  {
   "cell_type": "code",
   "execution_count": 146,
   "metadata": {},
   "outputs": [],
   "source": [
    "from numpy import *\n",
    "from sklearn.discriminant_analysis import *\n",
    "from sklearn.metrics import *\n",
    "from sklearn.model_selection import *"
   ]
  },
  {
   "cell_type": "code",
   "execution_count": 147,
   "metadata": {},
   "outputs": [
    {
     "name": "stdout",
     "output_type": "stream",
     "text": [
      "LDA dataset hepatitis:\n"
     ]
    }
   ],
   "source": [
    "#dataset='wine'\n",
    "dataset='hepatitis'\n",
    "nf='data/lab4/%s.data'%dataset\n",
    "x=loadtxt(nf)\n",
    "y=x[:,0];x=delete(x,0,1)\n",
    "# preprocessing: mean 0, desviation 1\n",
    "x=(x-mean(x,0))/std(x,0)\n",
    "print('LDA dataset %s:'%dataset)"
   ]
  },
  {
   "cell_type": "markdown",
   "metadata": {},
   "source": [
    "### training and test on the whole dataset"
   ]
  },
  {
   "cell_type": "code",
   "execution_count": 148,
   "metadata": {},
   "outputs": [
    {
     "name": "stdout",
     "output_type": "stream",
     "text": [
      "Train+Test: kappa=62.8% accuracy=88.4%\n",
      "confusion matrix:\n",
      "[[ 21  11]\n",
      " [  7 116]]\n"
     ]
    }
   ],
   "source": [
    "lda=LinearDiscriminantAnalysis().fit(x,y)\n",
    "z=lda.predict(x)\n",
    "kappa=cohen_kappa_score(y,z);acc=accuracy_score(y,z)\n",
    "print('Train+Test: kappa=%.1f%% accuracy=%.1f%%'\\\n",
    "%(100*kappa,100*acc))\n",
    "cf=confusion_matrix(y,z)\n",
    "print('confusion matrix:'); print(cf)"
   ]
  },
  {
   "cell_type": "markdown",
   "metadata": {},
   "source": [
    "###  4-fold cross-validation using cross_val_predict sklearn function"
   ]
  },
  {
   "cell_type": "code",
   "execution_count": 149,
   "metadata": {},
   "outputs": [
    {
     "name": "stdout",
     "output_type": "stream",
     "text": [
      "4-fold CV: kappa=43.5% accuracy=80.6%\n",
      "confusion matrix:\n",
      "[[ 19  13]\n",
      " [ 17 106]]\n",
      "precision=52.8% recall=59.4% f1=55.9%\n"
     ]
    }
   ],
   "source": [
    "lda=LinearDiscriminantAnalysis()\n",
    "K=4\n",
    "z=cross_val_predict(lda,x,y,cv=K)\n",
    "kappa=cohen_kappa_score(y,z)\n",
    "acc=accuracy_score(y,z)\n",
    "print('%i-fold CV: kappa=%.1f%% accuracy=%.1f%%'\\\n",
    "%(K,100*kappa,100*acc))\n",
    "cf=confusion_matrix(y,z)\n",
    "print('confusion matrix:'); print(cf)\n",
    "C=len(unique(y))\n",
    "if C==2:\n",
    "  pre=precision_score(y,z)\n",
    "  re=recall_score(y,z)\n",
    "  f1=f1_score(y,z)\n",
    "  print('precision=%.1f%% recall=%.1f%% f1=%.1f%%'\\\n",
    "  %(100*pre,100*re,100*f1))"
   ]
  },
  {
   "cell_type": "code",
   "execution_count": 150,
   "metadata": {},
   "outputs": [],
   "source": [
    "from numpy import *\n",
    "from sklearn.discriminant_analysis import *\n",
    "from sklearn.metrics import *\n",
    "from sys import exit"
   ]
  },
  {
   "cell_type": "code",
   "execution_count": 151,
   "metadata": {},
   "outputs": [
    {
     "name": "stdout",
     "output_type": "stream",
     "text": [
      "LDA dataset wine\n",
      "         k   kappa(%)     acc(%)\n",
      "         1     100.00     100.00\n",
      "         2     100.00     100.00\n",
      "         3     100.00     100.00\n",
      "         4      96.88      97.96\n",
      "kappa_mean=99.22% acc_mean=99.49%\n"
     ]
    }
   ],
   "source": [
    "dataset='wine'\n",
    "#dataset='hepatitis'\n",
    "nf='data/lab4/%s.data'%dataset;x=loadtxt(nf)\n",
    "y=x[:,0]-1;x=delete(x,0,1);C=len(unique(y))\n",
    "print('LDA dataset %s'%dataset)\n",
    "\n",
    "def createFolds(x,y,K):\n",
    "  from numpy.random import shuffle,seed\n",
    "  seed(100)\n",
    "  [N,n]=x.shape;C=len(unique(y))\n",
    "  ntf=K-2\n",
    "  nvf=1\n",
    "  ti=[[]]*K\n",
    "  vi=[[]]*K\n",
    "  si=[[]]*K\n",
    "  for i in range(C):\n",
    "    t=where(y==i)[0]\n",
    "    npc=len(t)\n",
    "    shuffle(t)\n",
    "    npf=int(npc/K)\n",
    "    ntp=npf*ntf\n",
    "    nvp=npf*nvf\n",
    "    nsp=npc-ntp-nvp\n",
    "    start=0\n",
    "    for k in range(K):\n",
    "      p=start\n",
    "      u=[]\n",
    "      for l in range(ntp):\n",
    "        u.append(t[p])\n",
    "        p=(p+1)%npc\n",
    "      ti[k]=ti[k]+u\n",
    "      u=[]\n",
    "      for l in range(nvp):\n",
    "        u.append(t[p])\n",
    "        p=(p+1)%npc\n",
    "      vi[k]=vi[k]+u\n",
    "      u=[]\n",
    "      for l in range(nsp):\n",
    "        u.append(t[p])\n",
    "        p=(p+1)%npc\n",
    "      si[k]=si[k]+u\n",
    "      start=start+npf\n",
    "\n",
    "  tx=[];ty=[];vx=[];vy=[];sx=[];sy=[]\n",
    "  for k in range(K):\n",
    "    i=ti[k];tx.append(x[i,:])\n",
    "    ty.append(y[i])\n",
    "    i=vi[k];vx.append(x[i,:])\n",
    "    vy.append(y[i])\n",
    "    i=si[k];sx.append(x[i,:])\n",
    "    sy.append(y[i])\n",
    "  return [tx,ty,vx,vy,sx,sy]\n",
    "\n",
    "K=4\n",
    "tx,ty,vx,vy,sx,sy=createFolds(x,y,K)\n",
    "\n",
    "# preprocessing: mean 0, deviation 1\n",
    "for k in range(K):\n",
    "  med=mean(tx[k],0);dev=std(tx[k],0)\n",
    "  tx[k]=(tx[k]-med)/dev\n",
    "  vx[k]=(vx[k]-med)/dev\n",
    "  sx[k]=(sx[k]-med)/dev\n",
    "kappa=zeros(K);acc=zeros(K);cm=zeros([C,C])\n",
    "print('%10s %10s %10s'%('k','kappa(%)','acc(%)'),end='')\n",
    "if C==2:\n",
    "  pre=zeros(K);re=zeros(K);f1=zeros(K)\n",
    "  print('%15s %10s %10s'%('Precision(%)','Recall(%)','F1(%)'),end='')\n",
    "print('')\n",
    "for k in range(K):\n",
    "  x=vstack((tx[k],vx[k]));y=concatenate((ty[k],vy[k]))\n",
    "  modelo=LinearDiscriminantAnalysis().fit(x,y)\n",
    "  z=modelo.predict(sx[k]);y=sy[k]\n",
    "  kappa[k]=100*cohen_kappa_score(y,z)\n",
    "  acc[k]=100*accuracy_score(y,z)\n",
    "  cm+=confusion_matrix(y,z)\n",
    "  print('%10i %10.2f %10.2f'%(k+1,kappa[k],acc[k]),end='')\n",
    "  if C==2:\n",
    "    pre[k]=100*precision_score(y,z)\n",
    "    re[k]=100*recall_score(y,z)\n",
    "    f1[k]=100*f1_score(y,z)\n",
    "    print('%15.2f %10.2f %10.2f'%(pre[k],re[k],f1[k]),end='')\n",
    "  print('')\n",
    "kappa_mean=mean(kappa);acc_mean=mean(acc);cm/=K\n",
    "print('kappa_mean=%.2f%% acc_mean=%.2f%%'%(kappa_mean,acc_mean),end='')\n",
    "if C==2:\n",
    "  pre_mean=mean(pre);re_mean=mean(re);f1_mean=mean(f1)\n",
    "  print('precision_mean=%.2f%% recall_mean=%.2f%%\\\n",
    "  F1_mean=%.2f%%'%(pre_mean,re_mean,f1_mean))\n",
    "else:\n",
    "  print('')"
   ]
  },
  {
   "cell_type": "markdown",
   "metadata": {},
   "source": [
    "###  Calculate the accuracy, Cohen kappa and confusion matrix for both datasets using the LDA classifier using the whole dataset as training and test set."
   ]
  },
  {
   "cell_type": "code",
   "execution_count": 152,
   "metadata": {},
   "outputs": [
    {
     "name": "stdout",
     "output_type": "stream",
     "text": [
      "hepatitis:\n",
      "Train+Test: kappa=62.8% accuracy=88.4%\n",
      "confusion matrix:\n",
      "[[ 21  11]\n",
      " [  7 116]] \n",
      "\n",
      "wine:\n",
      "Train+Test: kappa=100.0% accuracy=100.0%\n",
      "confusion matrix:\n",
      "[[59  0  0]\n",
      " [ 0 71  0]\n",
      " [ 0  0 48]]\n"
     ]
    }
   ],
   "source": [
    "lda = LinearDiscriminantAnalysis()\n",
    "\n",
    "# hepatitis\n",
    "dataset='hepatitis'\n",
    "nf='data/lab4/%s.data'%dataset\n",
    "x=loadtxt(nf)\n",
    "y=x[:,0]\n",
    "x=delete(x,0,1)\n",
    "# preprocessing: mean 0, desviation 1\n",
    "x=(x-mean(x,0))/std(x,0)\n",
    "lda.fit(x, y)\n",
    "z=lda.predict(x)\n",
    "kappa=cohen_kappa_score(y,z);acc=accuracy_score(y,z)\n",
    "print('hepatitis:')\n",
    "print('Train+Test: kappa=%.1f%% accuracy=%.1f%%'\\\n",
    "%(100*kappa,100*acc))\n",
    "cf=confusion_matrix(y,z)\n",
    "print('confusion matrix:'); \n",
    "print(cf, '\\n')\n",
    "\n",
    "# wine\n",
    "dataset = 'wine'\n",
    "nf='data/lab4/%s.data'%dataset\n",
    "x=loadtxt(nf)\n",
    "y=x[:,0];x=delete(x,0,1)\n",
    "# preprocessing: mean 0, desviation 1\n",
    "x=(x-mean(x,0))/std(x,0)\n",
    "lda.fit(x, y)\n",
    "z=lda.predict(x)\n",
    "kappa=cohen_kappa_score(y,z);acc=accuracy_score(y,z)\n",
    "print('wine:')\n",
    "print('Train+Test: kappa=%.1f%% accuracy=%.1f%%'\\\n",
    "%(100*kappa,100*acc))\n",
    "cf=confusion_matrix(y,z)\n",
    "print('confusion matrix:'); print(cf)"
   ]
  },
  {
   "cell_type": "markdown",
   "metadata": {},
   "source": [
    "### Repeat the process using cross-validation with 4 folds."
   ]
  },
  {
   "cell_type": "code",
   "execution_count": 153,
   "metadata": {},
   "outputs": [
    {
     "name": "stdout",
     "output_type": "stream",
     "text": [
      "hepatitis:\n",
      "4-fold CV: kappa=43.5% accuracy=80.6%\n",
      "confusion matrix:\n",
      "[[ 19  13]\n",
      " [ 17 106]]\n",
      "precision=52.8% recall=59.4% f1=55.9% \n",
      "\n",
      "wine:\n",
      "4-fold CV: kappa=95.7% accuracy=97.2%\n",
      "confusion matrix:\n",
      "[[58  1  0]\n",
      " [ 2 67  2]\n",
      " [ 0  0 48]]\n"
     ]
    }
   ],
   "source": [
    "lda=LinearDiscriminantAnalysis()\n",
    "K=4\n",
    "\n",
    "# hepatitis\n",
    "dataset='hepatitis'\n",
    "nf='data/lab4/%s.data'%dataset\n",
    "x=loadtxt(nf)\n",
    "y=x[:,0]\n",
    "x=delete(x,0,1)\n",
    "# preprocessing: mean 0, desviation 1\n",
    "x=(x-mean(x,0))/std(x,0)\n",
    "z=cross_val_predict(lda,x,y,cv=K)\n",
    "kappa=cohen_kappa_score(y,z);acc=accuracy_score(y,z)\n",
    "print(f'{dataset}:')\n",
    "print('%i-fold CV: kappa=%.1f%% accuracy=%.1f%%'\\\n",
    "%(K,100*kappa,100*acc))\n",
    "cf=confusion_matrix(y,z)\n",
    "print('confusion matrix:'); print(cf)\n",
    "C=len(unique(y))\n",
    "if C==2:\n",
    "  pre=precision_score(y,z)\n",
    "  re=recall_score(y,z)\n",
    "  f1=f1_score(y,z)\n",
    "  print('precision=%.1f%% recall=%.1f%% f1=%.1f%%'%(100*pre,100*re,100*f1), '\\n')\n",
    "\n",
    "# wine\n",
    "dataset='wine'\n",
    "nf='data/lab4/%s.data'%dataset\n",
    "x=loadtxt(nf)\n",
    "y=x[:,0]\n",
    "x=delete(x,0,1)\n",
    "# preprocessing: mean 0, desviation 1\n",
    "x=(x-mean(x,0))/std(x,0)\n",
    "z=cross_val_predict(lda,x,y,cv=K)\n",
    "kappa=cohen_kappa_score(y,z);acc=accuracy_score(y,z)\n",
    "print(f'{dataset}:')\n",
    "print('%i-fold CV: kappa=%.1f%% accuracy=%.1f%%'\\\n",
    "%(K,100*kappa,100*acc))\n",
    "cf=confusion_matrix(y,z)\n",
    "print('confusion matrix:'); print(cf)\n",
    "C=len(unique(y))\n",
    "if C==2:\n",
    "  pre=precision_score(y,z)\n",
    "  re=recall_score(y,z)\n",
    "  f1=f1_score(y,z)\n",
    "  print('precision=%.1f%% recall=%.1f%% f1=%.1f%%'\\\n",
    "  %(100*pre,100*re,100*f1))"
   ]
  },
  {
   "cell_type": "markdown",
   "metadata": {},
   "source": [
    "### Implement the cross-validation using the leave-one-pattern-out approach and provide the results. In this case, the process training-test is repeated N times, each one excluding a pattern."
   ]
  },
  {
   "cell_type": "code",
   "execution_count": 154,
   "metadata": {},
   "outputs": [
    {
     "name": "stdout",
     "output_type": "stream",
     "text": [
      "hepatitis:\n",
      "precision=80.00% kappa=35.2% \n",
      "[[ 14  18]\n",
      " [ 13 110]]\n"
     ]
    }
   ],
   "source": [
    "# hepatitis\n",
    "dataset='hepatitis'\n",
    "nf='data/lab4/%s.data'%dataset\n",
    "x=loadtxt(nf)\n",
    "y=x[:,0]\n",
    "x=delete(x,0,1)\n",
    "\n",
    "y_true = []\n",
    "y_predict = []\n",
    "for i in range(x.shape[0]):\n",
    "  x_train = delete(x, i, 0)\n",
    "  x_test = x[i, :].reshape(1, -1)\n",
    "  y_train = delete(y, i)\n",
    "  y_test = y[i]\n",
    "  y_true.append(y_test)\n",
    "\n",
    "  lda = LinearDiscriminantAnalysis()\n",
    "  lda.fit(x_train, y_train)\n",
    "  predict = lda.predict(x_test)\n",
    "  y_predict.append(predict)\n",
    "\n",
    "acc = accuracy_score(y_true, y_predict)\n",
    "kappa = cohen_kappa_score(y_true, y_predict)\n",
    "confuse_matrix = confusion_matrix(y_true, y_predict)\n",
    "\n",
    "print(f'{dataset}:')\n",
    "print('precision=%.2f%% kappa=%.1f%% '%(100*acc,100*kappa))\n",
    "print(confuse_matrix)"
   ]
  },
  {
   "cell_type": "code",
   "execution_count": 155,
   "metadata": {},
   "outputs": [
    {
     "name": "stdout",
     "output_type": "stream",
     "text": [
      "wine:\n",
      "precision=98.88% kappa=98.3% \n",
      "[[59  0  0]\n",
      " [ 1 69  1]\n",
      " [ 0  0 48]]\n"
     ]
    }
   ],
   "source": [
    "# wine\n",
    "dataset='wine'\n",
    "nf='data/lab4/%s.data'%dataset\n",
    "x=loadtxt(nf)\n",
    "y=x[:,0]\n",
    "x=delete(x,0,1)\n",
    "\n",
    "y_true = []\n",
    "y_predict = []\n",
    "for i in range(x.shape[0]):\n",
    "  x_train = delete(x, i, 0)\n",
    "  x_test = x[i, :].reshape(1, -1)\n",
    "  y_train = delete(y, i)\n",
    "  y_test = y[i]\n",
    "  y_true.append(y_test)\n",
    "\n",
    "  lda = LinearDiscriminantAnalysis()\n",
    "  lda.fit(x_train, y_train)\n",
    "  predict = lda.predict(x_test)\n",
    "  y_predict.append(predict)\n",
    "\n",
    "acc = accuracy_score(y_true, y_predict)\n",
    "kappa = cohen_kappa_score(y_true, y_predict)\n",
    "confuse_matrix = confusion_matrix(y_true, y_predict)\n",
    "\n",
    "print(f'{dataset}:')\n",
    "print('precision=%.2f%% kappa=%.1f%% '%(100*acc,100*kappa))\n",
    "print(confuse_matrix)"
   ]
  },
  {
   "cell_type": "markdown",
   "metadata": {},
   "source": [
    "### Use the LDA classifier for the classification of the textures problems of the previous week (lbpTrain.txt, lbpTest.txt; mlbpTrain.txt, mlbpTest.txt; and haralick Train.txt haralickTest.txt)."
   ]
  },
  {
   "cell_type": "code",
   "execution_count": 156,
   "metadata": {},
   "outputs": [
    {
     "name": "stdout",
     "output_type": "stream",
     "text": [
      "lbp:\n",
      "precision=66.67% kappa=66.0% \n",
      "[[6 0 0 ... 0 0 0]\n",
      " [0 2 0 ... 0 0 0]\n",
      " [0 0 6 ... 0 0 0]\n",
      " ...\n",
      " [0 0 0 ... 3 0 0]\n",
      " [0 0 0 ... 0 7 0]\n",
      " [0 0 0 ... 0 0 8]] \n",
      "\n",
      "mlbp:\n",
      "precision=91.90% kappa=91.7% \n",
      "[[7 0 0 ... 0 0 0]\n",
      " [0 6 0 ... 0 0 0]\n",
      " [0 0 6 ... 0 0 0]\n",
      " ...\n",
      " [0 0 0 ... 7 1 0]\n",
      " [0 0 0 ... 0 7 0]\n",
      " [0 0 0 ... 0 0 8]] \n",
      "\n",
      "haralick:\n",
      "precision=87.96% kappa=87.7% \n",
      "[[5 0 0 ... 0 0 0]\n",
      " [0 6 0 ... 0 0 0]\n",
      " [0 0 5 ... 0 0 0]\n",
      " ...\n",
      " [0 0 0 ... 4 0 0]\n",
      " [0 0 0 ... 0 8 0]\n",
      " [0 0 0 ... 0 0 8]] \n",
      "\n"
     ]
    }
   ],
   "source": [
    "def use_LDA(dataset):\n",
    "  # train data\n",
    "  nf_train='data/lab3/%sTrain.txt'%dataset\n",
    "  x_train=loadtxt(nf_train)\n",
    "  y_train=x_train[:,0]\n",
    "  x_train=delete(x_train,0,1)\n",
    "  # test data\n",
    "  nf_test='data/lab3/%sTest.txt'%dataset\n",
    "  x_test=loadtxt(nf_test)\n",
    "  y_test=x_test[:,0]\n",
    "  x_test=delete(x_test,0,1)\n",
    "  # preprocessing: mean 0, desviation 1\n",
    "  epsilon = 1e-8\n",
    "  train_mean = mean(x_train, 0)\n",
    "  train_std = std(x_train + epsilon, 0)\n",
    "  x_train = (x_train - train_mean) / train_std\n",
    "  x_test = (x_test - train_mean) / train_std\n",
    "\n",
    "  lda = LinearDiscriminantAnalysis()\n",
    "  lda.fit(x_train, y_train)\n",
    "  predict = lda.predict(x_test)\n",
    "\n",
    "  acc = accuracy_score(y_test, predict)\n",
    "  kappa = cohen_kappa_score(y_test, predict)\n",
    "  confuse_matrix = confusion_matrix(y_test, predict)\n",
    "\n",
    "  print(f'{dataset}:')\n",
    "  print('precision=%.2f%% kappa=%.1f%% '%(100*acc,100*kappa))\n",
    "  print(confuse_matrix, '\\n')\n",
    "\n",
    "# lbp\n",
    "use_LDA('lbp')\n",
    "\n",
    "# mlbp\n",
    "use_LDA('mlbp')\n",
    "\n",
    "# haralick\n",
    "use_LDA('haralick') "
   ]
  },
  {
   "cell_type": "markdown",
   "metadata": {},
   "source": [
    "### Compare the KNN and LDA classifiers using Wilcoxon-Signed Rank Test. You can use the ranksum(perfClass1, perfClass2) function in matlab/octave and the wilcoxon(perfClass1, perfClass2) function from the scipy.stats module of python (perfClass1 and perfClass2 are the performance measure for the classifier 1 or 2 on different datsets)."
   ]
  },
  {
   "cell_type": "code",
   "execution_count": 157,
   "metadata": {},
   "outputs": [
    {
     "name": "stdout",
     "output_type": "stream",
     "text": [
      "LDA dataset hepatitis:\n",
      "Train+Test: kappa=62.8% \n",
      "\n",
      "Train+Test: kappa=62.8% \n",
      "\n",
      "statistic=21.0, pvalue=0.05220363534131467\n"
     ]
    }
   ],
   "source": [
    "from sklearn.neighbors import *\n",
    "from scipy.stats import *\n",
    "\n",
    "#dataset='wine'\n",
    "dataset='hepatitis'\n",
    "nf='data/lab4/%s.data'%dataset\n",
    "x=loadtxt(nf)\n",
    "y=x[:,0]\n",
    "x=delete(x,0,1)\n",
    "# preprocessing: mean 0, desviation 1\n",
    "x=(x-mean(x,0))/std(x,0)\n",
    "print('LDA dataset %s:'%dataset)\n",
    "\n",
    "# lda\n",
    "lda=LinearDiscriminantAnalysis().fit(x,y)\n",
    "z_lda = lda.predict(x)\n",
    "kappa_lda=cohen_kappa_score(y,z_lda)\n",
    "print('Train+Test: kappa=%.1f%%'%(100*kappa_lda), '\\n')\n",
    "\n",
    "# knn\n",
    "knn = KNeighborsClassifier(n_neighbors=4).fit(x, y)\n",
    "z_knn = knn.predict(x)\n",
    "kappa_knn = cohen_kappa_score(y, z_knn)\n",
    "print('Train+Test: kappa=%.1f%%'%(100*kappa_lda), '\\n')\n",
    "\n",
    "statistic, pvalue = wilcoxon(z_lda, z_knn)\n",
    "print(f'statistic={statistic}, pvalue={pvalue}')"
   ]
  },
  {
   "cell_type": "markdown",
   "metadata": {},
   "source": [
    "### Optional task: test the LDA classifier with another classification problem from the UCI machine learning repository or an owner dataset."
   ]
  },
  {
   "cell_type": "code",
   "execution_count": 179,
   "metadata": {},
   "outputs": [
    {
     "name": "stdout",
     "output_type": "stream",
     "text": [
      "kappa=88.83% acc=94.74% \n",
      "\n",
      "[[102   0]\n",
      " [  9  60]]\n"
     ]
    },
    {
     "data": {
      "text/plain": [
       "<sklearn.metrics._plot.confusion_matrix.ConfusionMatrixDisplay at 0x316a2a7d0>"
      ]
     },
     "execution_count": 179,
     "metadata": {},
     "output_type": "execute_result"
    },
    {
     "data": {
      "image/png": "[encoded data removed]",
      "text/plain": [
       "<Figure size 640x480 with 2 Axes>"
      ]
     },
     "metadata": {},
     "output_type": "display_data"
    }
   ],
   "source": [
    "from sklearn.preprocessing import *\n",
    "\n",
    "dataset = 'wdbc'\n",
    "nf = 'data/lab4/%s.data'%dataset\n",
    "x = loadtxt(nf, delimiter=',', dtype=str)\n",
    "x = delete(x, 0, 1)\n",
    "y = x[:, 0]\n",
    "x = delete(x, 0, 1)\n",
    "\n",
    "# transform string to number\n",
    "y = LabelEncoder().fit_transform(y)\n",
    "x = x.astype(float)\n",
    "y = y.astype(float)\n",
    "\n",
    "x_train, x_test, y_train, y_test = train_test_split(x, y, test_size=0.3, random_state=100)\n",
    "\n",
    "# normalize\n",
    "x_train_mean = mean(x_train, 0)\n",
    "x_train_std = std(x_train, 0)\n",
    "x_train = (x_train - x_train_mean) / x_train_std\n",
    "x_test = (x_test - x_train_mean) / x_train_std\n",
    "\n",
    "lda = LinearDiscriminantAnalysis().fit(x_train, y_train)\n",
    "predict = lda.predict(x_test)\n",
    "\n",
    "acc = accuracy_score(y_test, predict)\n",
    "kappa = cohen_kappa_score(y_test, predict)\n",
    "\n",
    "print('kappa=%.2f%% acc=%.2f%%'%(100*kappa, 100*acc), '\\n')\n",
    "\n",
    "confuse_matrix = confusion_matrix(y_test, predict)\n",
    "print(confuse_matrix)\n",
    "\n",
    "disp = ConfusionMatrixDisplay(confusion_matrix=confuse_matrix, display_labels=['B', 'M'])\n",
    "disp.plot()"
   ]
  }
 ],
 "metadata": {
  "kernelspec": {
   "display_name": "Python 3",
   "language": "python",
   "name": "python3"
  },
  "language_info": {
   "codemirror_mode": {
    "name": "ipython",
    "version": 3
   },
   "file_extension": ".py",
   "mimetype": "text/x-python",
   "name": "python",
   "nbconvert_exporter": "python",
   "pygments_lexer": "ipython3",
   "version": "3.11.5"
  }
 },
 "nbformat": 4,
 "nbformat_minor": 2
}
