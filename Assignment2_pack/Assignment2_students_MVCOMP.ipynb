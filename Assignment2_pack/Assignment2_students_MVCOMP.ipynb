{
 "cells": [
  {
   "cell_type": "markdown",
   "metadata": {
    "id": "3eVey53yXnDE"
   },
   "source": [
    "# Assignment 2\n",
    "\n",
    "## General information\n",
    "\n",
    "This assignment has two problems:\n",
    " - 1: Linear Discriminat Analysis\n",
    " - 2: Quadratic Discriminat Analysis\n",
    "\n",
    "Utilize the designated cells within this notebook to complete the exercises. As for the Python exercises:\n",
    "- Refrain from altering the provided code; simply fill in the missing portions as indicated.\n",
    "- Do not use any additional libraries beyond those already included in the code (e.g., NumPy library).\n",
    "- Make sure that the output of all code cells is visible in your submitted notebook. **The evaluator is NOT expected to execute your code before grading your submission.**\n",
    "- Some problems include automatic checks (*assertions*) to verify basic aspects of your solution. However, passing these assertions does not guarantee that your solution is entirely correct. The final evaluation will always be determined by the evaluator.\n",
    "- Avoid the use of for loops by using NumPy vectorized operations whenever possible.\n",
    "   \n",
    "Please identify the authors of this assignment in the cell below."
   ]
  },
  {
   "cell_type": "markdown",
   "metadata": {
    "id": "vM05fvVqQA-R"
   },
   "source": [
    "## Identification\n",
    "\n",
    "* **Name:**\n",
    "* **Student Number:**\n",
    "\n",
    "* **Name:**\n",
    "* **Student Number:**\n",
    "\n",
    "* **Name:**\n",
    "* **Student Number:**\n",
    "---\n",
    "\n",
    "**Note:** This work is to be done in group of up to **3** elements. Use this notebook to answer all the questions. At the end of the work, you should **upload** the **notebook** and a **pdf file** with a printout of the notebook with all the results in the **moodle** platform.\n",
    "To generate the pdf file we have first to covert the notebook to html using the command `!jupyter nbconvert --to html \"ML_project2.ipynb\"`, then open the html file and printout to PDF."
   ]
  },
  {
   "cell_type": "markdown",
   "metadata": {
    "id": "rAFvjQVHQBLt"
   },
   "source": [
    "## Introduction\n",
    "\n",
    "For this assignment, we will consider the task of predicting the quality of red wine (rated on an integer scale from 0 to 5) based on 11 chemical properties, such as pH, alcohol content, residual sugar, etc. This dataset was originally published in:\n",
    "\n",
    "Cortez, Paulo, et al. [\"Modeling wine preferences by data mining from physicochemical properties.\"](https://https://www.sciencedirect.com/science/article/abs/pii/S0167923609001377) Decision support systems 47.4 (2009): 547-553.\n",
    "\n",
    "Since quality is a discrete and ordinal attribute, this problem could be framed as either a regression or classification task. For this assignment, we will treat it as a classification problem. Specifically, we have a **6-class classification dataset** ($y \\in \\{0, 1, \\dots, 5\\}$) where each **feature vector is 11-dimensional** ($\\mathbf{x} \\in \\mathbb{R}^{11}$).\n",
    "\n",
    "In the cell below, we load and prepare the data for you."
   ]
  },
  {
   "cell_type": "code",
   "execution_count": null,
   "metadata": {
    "id": "lvDtT4_8MkMX"
   },
   "outputs": [],
   "source": [
    "import pandas as pd\n",
    "\n",
    "train_data = pd.read_csv(\"winequality_train.csv\")\n",
    "print(\"A training example:\")\n",
    "print(train_data.iloc[0])\n",
    "print()\n",
    "test_data = pd.read_csv(\"winequality_test.csv\")\n",
    "print(\"A test example:\")\n",
    "print(test_data.iloc[0])\n",
    "print()\n",
    "\n",
    "X_train = train_data.iloc[:, :-1].values\n",
    "y_train = train_data.iloc[:, -1].values\n",
    "X_test = test_data.iloc[:, :-1].values\n",
    "y_test = test_data.iloc[:, -1].values\n",
    "print(\"X_train shape:\", X_train.shape)\n",
    "print(\"X_test shape:\", X_test.shape)\n",
    "print(\"y_train shape:\", y_train.shape)\n",
    "print(\"y_test shape:\", y_test.shape)"
   ]
  },
  {
   "cell_type": "markdown",
   "metadata": {
    "id": "Vl7wtbg5AnHk"
   },
   "source": [
    "An important **preprocessing step** for multi-dimensional continuous data is to ensure all features have **zero mean** and **unit variance**. In the code below, we transform the data to achieve this.\n",
    "\n",
    "**When normalizing the test data, we reuse the mean and standard deviation from the training data**, rather than recalculating them. This ensures a fair evaluation, since we want to classify new examples without assuming any prior knowledge about their distribution beyond what was learned during the training phase."
   ]
  },
  {
   "cell_type": "code",
   "execution_count": null,
   "metadata": {
    "id": "xnmjozR85Jpj"
   },
   "outputs": [],
   "source": [
    "print(\"Training data statistics before normalization:\")\n",
    "print(\"  * mean:\", X_train.mean(axis=0))\n",
    "print(\"  * std:\", X_train.std(axis=0))\n",
    "print()\n",
    "print(\"Test data statistics before normalization:\")\n",
    "print(\"  * mean:\", X_test.mean(axis=0))\n",
    "print(\"  * std:\", X_test.std(axis=0))\n",
    "print()\n",
    "\n",
    "train_mean = X_train.mean(axis=0)\n",
    "train_std = X_train.std(axis=0)\n",
    "X_train = (X_train - train_mean) / train_std\n",
    "X_test = (X_test - train_mean) / train_std\n",
    "\n",
    "print(\"Training data statistics after normalization:\")\n",
    "print(\"  * mean:\", X_train.mean(axis=0))\n",
    "print(\"  * std:\", X_train.std(axis=0))\n",
    "print()\n",
    "print(\"Test data statistics after normalization:\")\n",
    "print(\"  * mean:\", X_test.mean(axis=0))\n",
    "print(\"  * std:\", X_test.std(axis=0))"
   ]
  },
  {
   "cell_type": "markdown",
   "metadata": {
    "id": "szaZLcuDZQp7"
   },
   "source": [
    "## Problem 1: Generative Classifiers (Linear Discriminant Analysis)"
   ]
  },
  {
   "cell_type": "markdown",
   "metadata": {
    "id": "HpCEelC1Z9X5"
   },
   "source": [
    "Consider a classifier that predicts the class label $\\widehat{y}$ for an observed feature vector $\\mathbf{x}$ using the *maximum a posteriori* (MAP) classification rule:\n",
    "\n",
    "$$\n",
    "\\widehat{y} = \\arg\\max_y p(y \\mid \\mathbf{x}).\n",
    "$$\n",
    "\n",
    "Assume the following:\n",
    "1. The distribution of $\\mathbf{x} \\mid y\\$ is Gaussian.\n",
    "2. The covariance matrix is shared by all the classes.\n",
    "\n",
    "In the cell below, you have the skeleton of a `LDAClassifier` class that you will complete throughout this exercise to implement this classifier.\n"
   ]
  },
  {
   "cell_type": "code",
   "execution_count": null,
   "metadata": {
    "id": "7gUX6cTxY2CS"
   },
   "outputs": [],
   "source": [
    "import numpy as np\n",
    "from scipy.stats import multivariate_normal\n",
    "\n",
    "class LDAClassifier:\n",
    "    def fit(self, X: np.ndarray, y: np.ndarray) -> None:\n",
    "        \"\"\"\n",
    "        Estimate the parameters of the classifier from the training data.\n",
    "\n",
    "        Parameters:\n",
    "        X: np.ndarray of shape (num_examples, num_features)\n",
    "            The input data (features).\n",
    "        y: np.ndarray of shape (num_examples,)\n",
    "            The corresponding labels (target values).\n",
    "        \"\"\"\n",
    "        # ToDo: Exercise 1.2\n",
    "        # **Replace `pass` with your code**\n",
    "        pass\n",
    "\n",
    "    def predict_proba(self, X: np.ndarray) -> np.ndarray:\n",
    "        \"\"\"\n",
    "        Predict the class probabilities for the given input data.\n",
    "\n",
    "        Parameters:\n",
    "        X: np.ndarray of shape (num_examples, num_features)\n",
    "            The input data (features).\n",
    "\n",
    "        Returns:\n",
    "        np.ndarray of shape (num_examples, num_classes)\n",
    "            The predicted probabilities for each class.\n",
    "        \"\"\"\n",
    "        # ToDo: Exercise 1.3\n",
    "        # **Replace `pass` with your code**\n",
    "        pass\n",
    "\n",
    "    def predict(self, X: np.ndarray) -> np.ndarray:\n",
    "        \"\"\"\n",
    "        Predict the class labels for the input data using the estimated model parameters.\n",
    "\n",
    "        Parameters:\n",
    "        X: np.ndarray of shape (num_examples, num_features)\n",
    "            The input data (features) for which predictions are needed.\n",
    "\n",
    "        Returns:\n",
    "        np.ndarray of shape (num_examples,)\n",
    "            The predicted class labels.\n",
    "        \"\"\"\n",
    "        # ToDo: Exercise 1.4\n",
    "        # **Replace `pass` with your code**\n",
    "        pass\n"
   ]
  },
  {
   "cell_type": "markdown",
   "metadata": {
    "id": "aVHMijtxYpoE"
   },
   "source": [
    "### 1.1\n",
    "Based on the assumptions given before, **identify all the parameters** in the model and **write down the expressions for their maximum likelihood estimates**. You do not need to show the derivation of the expressions, just the final result."
   ]
  },
  {
   "cell_type": "markdown",
   "metadata": {
    "id": "HiJf1aP7cZkT"
   },
   "source": [
    "*Your answer here*"
   ]
  },
  {
   "cell_type": "markdown",
   "metadata": {
    "id": "Sf85q0JTdhpM"
   },
   "source": [
    "### 1.2\n",
    "In this exercise, you should write the code for the `fit` method of this classifier. This method should **estimate all model parameters** using the data provided as arguments. Specifically:\n",
    "\n",
    "- `X`: A NumPy array of shape `(num_examples, num_features)` containing the training input examples $\\mathbf{x}_1, \\mathbf{x}_2, \\dots, \\mathbf{x}_n$.\n",
    "- `y`: A NumPy array of shape `(num_examples,)` containing the corresponding labels $y_1, y_2, \\dots, y_n$.\n",
    "\n",
    "The model parameters should be saved as class attributes, so they can be used later during prediction.\n",
    "\n",
    "After implementing the function, run the cell below to make sure that all the assertions pass and that the model parameter names and values are printed.\n"
   ]
  },
  {
   "cell_type": "code",
   "execution_count": null,
   "metadata": {
    "id": "OXq8kE-PZgzF"
   },
   "outputs": [],
   "source": [
    "# instantiate the classifier and train it\n",
    "lda_clf = LDAClassifier()\n",
    "lda_clf.fit(X_train, y_train)\n",
    "\n",
    "assert lda_clf.__dict__.keys(), (\"`fit` method not implemented yet or not \"\n",
    "\"creating the class attributes.\")\n",
    "print(\"Classifier attributes:\")\n",
    "for attr, value in lda_clf.__dict__.items():\n",
    "    shape = f\", shape {value.shape}\" if hasattr(value, \"shape\") else \"\"\n",
    "    print(f\"  * {attr}{shape}: {value}\")"
   ]
  },
  {
   "cell_type": "markdown",
   "metadata": {
    "id": "RSLu9JeJbMBS"
   },
   "source": [
    "### 1.3\n",
    "Implement the `predict_proba` method of the `LDAClassifier` class. This method should use the model parameters estimated during the `fit` method to **predict the probabilities of each class** for new input data. Specifically, the input is:\n",
    "\n",
    "- `X`: A NumPy array of shape `(num_examples, num_features)` containing the input examples $\\mathbf{x}_1, \\mathbf{x}_2, \\dots, \\mathbf{x}_n$ for which predictions are needed.\n",
    "\n",
    "The method should return a NumPy array of shape `(num_examples, num_classes)` containing the predicted probabilities $p(y=0 \\mid \\mathbf{x}_i), p(y=1 \\mid \\mathbf{x}_i), \\dots, p(y=C-1 \\mid \\mathbf{x}_i)$, for $i \\in \\{1, 2, \\dots, n\\}$.\n",
    "\n",
    "After implementing the function, run the cell below to make sure that all the assertions pass."
   ]
  },
  {
   "cell_type": "code",
   "execution_count": null,
   "metadata": {
    "id": "S-7e3TzWcOnH"
   },
   "outputs": [],
   "source": [
    "# instantiate the classifier\n",
    "# (we need to do this again because you probably changed the code of LDAClassifier\n",
    "# after you ran the previous cell)\n",
    "lda_clf = LDAClassifier()\n",
    "lda_clf.fit(X_train, y_train)\n",
    "\n",
    "# predict the class probabilities for the training data\n",
    "probs = lda_clf.predict_proba(X_train)\n",
    "\n",
    "assert probs is not None, (\"`predict_proba` method not implemented yet or \"\n",
    "\"not returning a valid array.\")\n",
    "assert probs.shape == (len(X_train), 6), (\"`predict_proba` output should \"\n",
    "\"have shape (num_examples, num_classes).\")\n",
    "assert np.all((probs >= 0) * (probs <= 1)), (\"`predict_proba` output should be \"\n",
    "\"probabilities.\")\n",
    "assert np.allclose(probs.sum(axis=1), 1), (\"`predict_proba` output should be a \"\n",
    "\"(proper) probability distribution.\")\n",
    "print(\"Your `predict_proba` looks good! 🚀\")"
   ]
  },
  {
   "cell_type": "markdown",
   "metadata": {
    "id": "s4LLeAaQgLzQ"
   },
   "source": [
    "### 1.4\n",
    "Implement the `predict` method of the `LDAClassifier` class. This method should **predict the class labels** for new input data, by applying the MAP rule. Specifically, the input is:\n",
    "\n",
    "- `X`: A NumPy array of shape `(num_examples, num_features)` containing the input examples $\\mathbf{x}_1, \\mathbf{x}_2, \\dots, \\mathbf{x}_n$ for which predictions are needed.\n",
    "\n",
    "The method should return a NumPy array of shape `(num_examples,)` containing the predicted class labels $\\widehat{y}_1, \\widehat{y}_2, \\dots, \\widehat{y}_n$.\n",
    "\n",
    "After implementing the function, run the cell below to make sure that all the assertions pass and that a summary of the model predictions is printed.\n"
   ]
  },
  {
   "cell_type": "code",
   "execution_count": null,
   "metadata": {
    "id": "pp4b2ax3eoYS"
   },
   "outputs": [],
   "source": [
    "# instantiate the classifier\n",
    "# (we need to do this again because you probably changed the code of LDAClassifier\n",
    "# after you ran the previous cell)\n",
    "lda_clf = LDAClassifier()\n",
    "lda_clf.fit(X_train, y_train)\n",
    "\n",
    "# predict the class labels for the training data\n",
    "y_train_pred = lda_clf.predict(X_train)\n",
    "assert y_train_pred is not None, (\"`predict` method not implemented yet or not returning \"\n",
    "\"any predictions.\")\n",
    "assert len(y_train_pred) == len(X_train), (\"You should have one predicted \"\n",
    "\"label for each input example.\")\n",
    "print(\"Your classifier predicted:\")\n",
    "for j in range(6):\n",
    "    print(f\"  * {(y_train_pred == j).sum()} training examples in class {j}.\")\n",
    "print()\n",
    "\n",
    "# predict the class labels for the test data\n",
    "y_test_pred = lda_clf.predict(X_test)\n",
    "assert y_test_pred is not None, (\"`predict` method not implemented yet or not returning \"\n",
    "\"any predictions.\")\n",
    "assert len(y_test_pred) == len(X_test), (\"You should have one predicted \"\n",
    "\"label for each input example.\")\n",
    "print(\"Your classifier predicted:\")\n",
    "for j in range(6):\n",
    "    print(f\"  * {(y_test_pred == j).sum()} test examples in class {j}.\")"
   ]
  },
  {
   "cell_type": "markdown",
   "metadata": {
    "id": "6465-BowhHoB"
   },
   "source": [
    "### 1.5\n",
    "Complete the code of the function `compute_accuracy`, which **computes the accuracy** of a given set of predictions when compared to the ground-truth labels. This function will be used to compute the training and test accuracies of our `LDAClassifier`.\n",
    "\n",
    "After implementing the function, run the cell below to make sure that all the assertions pass and that the values of the training and test accuracies are reasonable."
   ]
  },
  {
   "cell_type": "code",
   "execution_count": null,
   "metadata": {
    "id": "OFq5rhpzhG5s"
   },
   "outputs": [],
   "source": [
    "def compute_accuracy(y_true: np.ndarray, y_pred: np.ndarray) -> float:\n",
    "    \"\"\"\n",
    "    Computes the accuracy of the classifier.\n",
    "\n",
    "    Parameters:\n",
    "    y_true: np.ndarray of shape (num_examples,)\n",
    "        The true class labels.\n",
    "    y_pred: np.ndarray of shape (num_examples,)\n",
    "        The predicted class labels.\n",
    "\n",
    "    Returns:\n",
    "    float\n",
    "        The accuracy of the classifier.\n",
    "    \"\"\"\n",
    "    # ToDo:\n",
    "    # **Replace `pass` with your code**\n",
    "    pass\n",
    "\n",
    "\n",
    "# compute the training accuracy\n",
    "train_accuracy = compute_accuracy(y_train, y_train_pred)\n",
    "assert train_accuracy is not None, (\"`compute_accuracy` not implemented yet or \"\n",
    "\"not returning a valid float.\")\n",
    "print(f\"Training accuracy: {train_accuracy:.3f}\")\n",
    "\n",
    "# compute the test accuracy\n",
    "test_accuracy = compute_accuracy(y_test, y_test_pred)\n",
    "assert test_accuracy is not None, (\"`compute_accuracy` not implemented yet or \"\n",
    "\"not returning a valid float.\")\n",
    "print(f\"Test accuracy: {test_accuracy:.3f}\")\n"
   ]
  },
  {
   "cell_type": "markdown",
   "metadata": {
    "id": "VCBIKZOiB4_N"
   },
   "source": [
    "### 1.6\n",
    "Explain why normalizing features to have zero mean and unit variance is an important preprocessing step **for this classifier**."
   ]
  },
  {
   "cell_type": "markdown",
   "metadata": {
    "id": "-nbSsfDoCSCv"
   },
   "source": [
    "*Your answer here*"
   ]
  },
  {
   "cell_type": "markdown",
   "metadata": {
    "id": "s1Xz8j4Ulnbr"
   },
   "source": [
    "## Problem 2: Quadratic Discriminant Analysis (QDA)"
   ]
  },
  {
   "cell_type": "markdown",
   "metadata": {},
   "source": [
    "You should now repeat the analysis performed on the previous exercise (items 1.2 to 1.5), but now using the QDA model. At the end, compare the performance of both methods and define which one would you choose to deploy. In the cell below, you have the skeleton of a `QDAClassifier` class that you will complete throughout this exercise to implement this classifier."
   ]
  },
  {
   "cell_type": "code",
   "execution_count": null,
   "metadata": {},
   "outputs": [],
   "source": [
    "import numpy as np\n",
    "from scipy.stats import multivariate_normal\n",
    "\n",
    "class QDAClassifier:\n",
    "    def fit(self, X: np.ndarray, y: np.ndarray) -> None:\n",
    "        \"\"\"\n",
    "        Estimate the parameters of the classifier from the training data.\n",
    "\n",
    "        Parameters:\n",
    "        X: np.ndarray of shape (num_examples, num_features)\n",
    "            The input data (features).\n",
    "        y: np.ndarray of shape (num_examples,)\n",
    "            The corresponding labels (target values).\n",
    "        \"\"\"\n",
    "        # ToDo:\n",
    "        # **Replace `pass` with your code**\n",
    "        pass\n",
    "\n",
    "    def predict_proba(self, X: np.ndarray) -> np.ndarray:\n",
    "        \"\"\"\n",
    "        Predict the class probabilities for the given input data.\n",
    "\n",
    "        Parameters:\n",
    "        X: np.ndarray of shape (num_examples, num_features)\n",
    "            The input data (features).\n",
    "\n",
    "        Returns:\n",
    "        np.ndarray of shape (num_examples, num_classes)\n",
    "            The predicted probabilities for each class.\n",
    "        \"\"\"\n",
    "        # ToDo:\n",
    "        # **Replace `pass` with your code**\n",
    "        pass\n",
    "\n",
    "    def predict(self, X: np.ndarray) -> np.ndarray:\n",
    "        \"\"\"\n",
    "        Predict the class labels for the input data using the estimated model parameters.\n",
    "\n",
    "        Parameters:\n",
    "        X: np.ndarray of shape (num_examples, num_features)\n",
    "            The input data (features) for which predictions are needed.\n",
    "\n",
    "        Returns:\n",
    "        np.ndarray of shape (num_examples,)\n",
    "            The predicted class labels.\n",
    "        \"\"\"\n",
    "        # ToDo:\n",
    "        # **Replace `pass` with your code**\n",
    "        pass\n"
   ]
  },
  {
   "cell_type": "markdown",
   "metadata": {},
   "source": [
    "### 2.1\n",
    "\n",
    "What is the difference between the estimated parameters of LDA and QDA?"
   ]
  },
  {
   "cell_type": "markdown",
   "metadata": {},
   "source": [
    "*Your answer here*"
   ]
  },
  {
   "cell_type": "markdown",
   "metadata": {},
   "source": [
    "### 2.2\n",
    "\n",
    "Write your fit method:"
   ]
  },
  {
   "cell_type": "code",
   "execution_count": null,
   "metadata": {},
   "outputs": [],
   "source": [
    "# instantiate the classifier and train it\n",
    "qda_clf = QDAClassifier()\n",
    "qda_clf.fit(X_train, y_train)\n",
    "\n",
    "assert qda_clf.__dict__.keys(), (\"`fit` method not implemented yet or not \"\n",
    "\"creating the class attributes.\")\n",
    "print(\"Classifier attributes:\")\n",
    "for attr, value in qda_clf.__dict__.items():\n",
    "    shape = f\", shape {value.shape}\" if hasattr(value, \"shape\") else \"\"\n",
    "    print(f\"  * {attr}{shape}: {value}\")"
   ]
  },
  {
   "cell_type": "markdown",
   "metadata": {},
   "source": [
    "### 2.3\n",
    "\n",
    "Implement the predict_proba method:"
   ]
  },
  {
   "cell_type": "code",
   "execution_count": null,
   "metadata": {},
   "outputs": [],
   "source": [
    "# instantiate the classifier\n",
    "# (we need to do this again because you probably changed the code of QDAClassifier\n",
    "# after you ran the previous cell)\n",
    "qda_clf = QDAClassifier()\n",
    "qda_clf.fit(X_train, y_train)\n",
    "\n",
    "# predict the class probabilities for the training data\n",
    "probs = qda_clf.predict_proba(X_train)\n",
    "\n",
    "assert probs is not None, (\"`predict_proba` method not implemented yet or \"\n",
    "\"not returning a valid array.\")\n",
    "assert probs.shape == (len(X_train), 6), (\"`predict_proba` output should \"\n",
    "\"have shape (num_examples, num_classes).\")\n",
    "assert np.all((probs >= 0) * (probs <= 1)), (\"`predict_proba` output should be \"\n",
    "\"probabilities.\")\n",
    "assert np.allclose(probs.sum(axis=1), 1), (\"`predict_proba` output should be a \"\n",
    "\"(proper) probability distribution.\")\n",
    "print(\"Your `predict_proba` looks good! 🚀\")"
   ]
  },
  {
   "cell_type": "markdown",
   "metadata": {},
   "source": [
    "### 2.4 \n",
    "\n",
    "Write your predict method:"
   ]
  },
  {
   "cell_type": "code",
   "execution_count": null,
   "metadata": {},
   "outputs": [],
   "source": [
    "# instantiate the classifier\n",
    "# (we need to do this again because you probably changed the code of QDAClassifier\n",
    "# after you ran the previous cell)\n",
    "qda_clf = QDAClassifier()\n",
    "qda_clf.fit(X_train, y_train)\n",
    "\n",
    "# predict the class labels for the training data\n",
    "y_train_pred = qda_clf.predict(X_train)\n",
    "assert y_train_pred is not None, (\"`predict` method not implemented yet or not returning \"\n",
    "\"any predictions.\")\n",
    "assert len(y_train_pred) == len(X_train), (\"You should have one predicted \"\n",
    "\"label for each input example.\")\n",
    "print(\"Your classifier predicted:\")\n",
    "for j in range(6):\n",
    "    print(f\"  * {(y_train_pred == j).sum()} training examples in class {j}.\")\n",
    "print()\n",
    "\n",
    "# predict the class labels for the test data\n",
    "y_test_pred = qda_clf.predict(X_test)\n",
    "assert y_test_pred is not None, (\"`predict` method not implemented yet or not returning \"\n",
    "\"any predictions.\")\n",
    "assert len(y_test_pred) == len(X_test), (\"You should have one predicted \"\n",
    "\"label for each input example.\")\n",
    "print(\"Your classifier predicted:\")\n",
    "for j in range(6):\n",
    "    print(f\"  * {(y_test_pred == j).sum()} test examples in class {j}.\")"
   ]
  },
  {
   "cell_type": "markdown",
   "metadata": {},
   "source": [
    "### 2.5\n",
    "Using the compute_accuracy that you have already defined, compute the performance of the QDA on the given data. Compare the results with the ones obtained with LDA and define which one would you deploy."
   ]
  },
  {
   "cell_type": "code",
   "execution_count": null,
   "metadata": {},
   "outputs": [],
   "source": [
    "# compute the training accuracy\n",
    "train_accuracy = compute_accuracy(y_train, y_train_pred)\n",
    "assert train_accuracy is not None, (\"`compute_accuracy` not implemented yet or \"\n",
    "\"not returning a valid float.\")\n",
    "print(f\"Training accuracy: {train_accuracy:.3f}\")\n",
    "\n",
    "# compute the test accuracy\n",
    "test_accuracy = compute_accuracy(y_test, y_test_pred)\n",
    "assert test_accuracy is not None, (\"`compute_accuracy` not implemented yet or \"\n",
    "\"not returning a valid float.\")\n",
    "print(f\"Test accuracy: {test_accuracy:.3f}\")"
   ]
  },
  {
   "cell_type": "markdown",
   "metadata": {},
   "source": [
    "*Your answer here*"
   ]
  }
 ],
 "metadata": {
  "colab": {
   "provenance": []
  },
  "kernelspec": {
   "display_name": "Python 3",
   "name": "python3"
  },
  "language_info": {
   "name": "python"
  }
 },
 "nbformat": 4,
 "nbformat_minor": 0
}
