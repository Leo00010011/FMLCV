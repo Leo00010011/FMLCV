{
 "cells": [
  {
   "cell_type": "markdown",
   "metadata": {
    "id": "3eVey53yXnDE"
   },
   "source": [
    "# Assignment 2\n",
    "\n",
    "## General information\n",
    "\n",
    "This assignment has two problems:\n",
    " - 1: Linear Discriminat Analysis\n",
    " - 2: Quadratic Discriminat Analysis\n",
    "\n",
    "Utilize the designated cells within this notebook to complete the exercises. As for the Python exercises:\n",
    "- Refrain from altering the provided code; simply fill in the missing portions as indicated.\n",
    "- Do not use any additional libraries beyond those already included in the code (e.g., NumPy library).\n",
    "- Make sure that the output of all code cells is visible in your submitted notebook. **The evaluator is NOT expected to execute your code before grading your submission.**\n",
    "- Some problems include automatic checks (*assertions*) to verify basic aspects of your solution. However, passing these assertions does not guarantee that your solution is entirely correct. The final evaluation will always be determined by the evaluator.\n",
    "- Avoid the use of for loops by using NumPy vectorized operations whenever possible.\n",
    "   \n",
    "Please identify the authors of this assignment in the cell below."
   ]
  },
  {
   "cell_type": "markdown",
   "metadata": {
    "id": "vM05fvVqQA-R"
   },
   "source": [
    "## Identification\n",
    "\n",
    "* **Name: Liu Cong**\n",
    "* **Student Number:**\n",
    "\n",
    "* **Name: Ulloa Ferrer Leonardo**\n",
    "* **Student Number:**\n",
    "\n",
    "* **Name:**\n",
    "* **Student Number:**\n",
    "---\n",
    "\n",
    "**Note:** This work is to be done in group of up to **3** elements. Use this notebook to answer all the questions. At the end of the work, you should **upload** the **notebook** and a **pdf file** with a printout of the notebook with all the results in the **moodle** platform.\n",
    "To generate the pdf file we have first to covert the notebook to html using the command `!jupyter nbconvert --to html \"ML_project2.ipynb\"`, then open the html file and printout to PDF."
   ]
  },
  {
   "cell_type": "markdown",
   "metadata": {
    "id": "rAFvjQVHQBLt"
   },
   "source": [
    "## Introduction\n",
    "\n",
    "For this assignment, we will consider the task of predicting the quality of red wine (rated on an integer scale from 0 to 5) based on 11 chemical properties, such as pH, alcohol content, residual sugar, etc. This dataset was originally published in:\n",
    "\n",
    "Cortez, Paulo, et al. [\"Modeling wine preferences by data mining from physicochemical properties.\"](https://https://www.sciencedirect.com/science/article/abs/pii/S0167923609001377) Decision support systems 47.4 (2009): 547-553.\n",
    "\n",
    "Since quality is a discrete and ordinal attribute, this problem could be framed as either a regression or classification task. For this assignment, we will treat it as a classification problem. Specifically, we have a **6-class classification dataset** ($y \\in \\{0, 1, \\dots, 5\\}$) where each **feature vector is 11-dimensional** ($\\mathbf{x} \\in \\mathbb{R}^{11}$).\n",
    "\n",
    "In the cell below, we load and prepare the data for you."
   ]
  },
  {
   "cell_type": "code",
   "execution_count": 1,
   "metadata": {
    "id": "lvDtT4_8MkMX"
   },
   "outputs": [
    {
     "name": "stdout",
     "output_type": "stream",
     "text": [
      "A training example:\n",
      "fixed acidity            8.60000\n",
      "volatile acidity         0.22000\n",
      "citric acid              0.36000\n",
      "residual sugar           1.90000\n",
      "chlorides                0.06400\n",
      "free sulfur dioxide     53.00000\n",
      "total sulfur dioxide    77.00000\n",
      "density                  0.99604\n",
      "pH                       3.47000\n",
      "sulphates                0.87000\n",
      "alcohol                 11.00000\n",
      "quality                  4.00000\n",
      "Name: 0, dtype: float64\n",
      "\n",
      "A test example:\n",
      "fixed acidity            7.7000\n",
      "volatile acidity         0.5600\n",
      "citric acid              0.0800\n",
      "residual sugar           2.5000\n",
      "chlorides                0.1140\n",
      "free sulfur dioxide     14.0000\n",
      "total sulfur dioxide    46.0000\n",
      "density                  0.9971\n",
      "pH                       3.2400\n",
      "sulphates                0.6600\n",
      "alcohol                  9.6000\n",
      "quality                  3.0000\n",
      "Name: 0, dtype: float64\n",
      "\n",
      "X_train shape: (1119, 11)\n",
      "X_test shape: (480, 11)\n",
      "y_train shape: (1119,)\n",
      "y_test shape: (480,)\n"
     ]
    }
   ],
   "source": [
    "import pandas as pd\n",
    "\n",
    "train_data = pd.read_csv(\"winequality_train.csv\")\n",
    "print(\"A training example:\")\n",
    "print(train_data.iloc[0])\n",
    "print()\n",
    "test_data = pd.read_csv(\"winequality_test.csv\")\n",
    "print(\"A test example:\")\n",
    "print(test_data.iloc[0])\n",
    "print()\n",
    "\n",
    "X_train = train_data.iloc[:, :-1].values\n",
    "y_train = train_data.iloc[:, -1].values\n",
    "X_test = test_data.iloc[:, :-1].values\n",
    "y_test = test_data.iloc[:, -1].values\n",
    "print(\"X_train shape:\", X_train.shape)\n",
    "print(\"X_test shape:\", X_test.shape)\n",
    "print(\"y_train shape:\", y_train.shape)\n",
    "print(\"y_test shape:\", y_test.shape)"
   ]
  },
  {
   "cell_type": "markdown",
   "metadata": {
    "id": "Vl7wtbg5AnHk"
   },
   "source": [
    "An important **preprocessing step** for multi-dimensional continuous data is to ensure all features have **zero mean** and **unit variance**. In the code below, we transform the data to achieve this.\n",
    "\n",
    "**When normalizing the test data, we reuse the mean and standard deviation from the training data**, rather than recalculating them. This ensures a fair evaluation, since we want to classify new examples without assuming any prior knowledge about their distribution beyond what was learned during the training phase."
   ]
  },
  {
   "cell_type": "code",
   "execution_count": 2,
   "metadata": {
    "id": "xnmjozR85Jpj"
   },
   "outputs": [
    {
     "name": "stdout",
     "output_type": "stream",
     "text": [
      "Training data statistics before normalization:\n",
      "  * mean: [ 8.30956211  0.53313226  0.27025022  2.54830206  0.08771135 15.9204647\n",
      " 46.96648794  0.996778    3.31427167  0.65882038 10.41733691]\n",
      "  * std: [1.71313271e+00 1.81940308e-01 1.95404143e-01 1.42709225e+00\n",
      " 4.71218617e-02 1.02685749e+01 3.30219278e+01 1.83946303e-03\n",
      " 1.53911124e-01 1.72165005e-01 1.05927763e+00]\n",
      "\n",
      "Test data statistics before normalization:\n",
      "  * mean: [ 8.343125    0.5154375   0.27266667  2.51666667  0.08689583 15.76875\n",
      " 45.30520833  0.99667367  3.30375     0.65658333 10.43614583]\n",
      "  * std: [1.80263540e+00 1.71324851e-01 1.93172994e-01 1.36730930e+00\n",
      " 4.68790285e-02 1.08825004e+01 3.25340058e+01 1.99070295e-03\n",
      " 1.55079617e-01 1.62948079e-01 1.07920724e+00]\n",
      "\n",
      "Training data statistics after normalization:\n",
      "  * mean: [ 5.42907988e-16 -2.34148913e-16  1.65094827e-16 -6.66729109e-17\n",
      "  3.41301806e-16  7.93725129e-18  1.58745026e-17 -4.02418641e-14\n",
      " -8.25474134e-16 -4.42898622e-16  1.17471319e-16]\n",
      "  * std: [1. 1. 1. 1. 1. 1. 1. 1. 1. 1. 1.]\n",
      "\n",
      "Test data statistics after normalization:\n",
      "  * mean: [ 0.01959153 -0.09725586  0.01236639 -0.02216773 -0.01730653 -0.01477466\n",
      " -0.05030838 -0.05671848 -0.06836199 -0.01299359  0.01775637]\n",
      "  * std: [1.05224505 0.94165418 0.98858187 0.95810856 0.9948467  1.05978683\n",
      " 0.9852243  1.0822196  1.007592   0.94646458 1.01881434]\n"
     ]
    }
   ],
   "source": [
    "print(\"Training data statistics before normalization:\")\n",
    "print(\"  * mean:\", X_train.mean(axis=0))\n",
    "print(\"  * std:\", X_train.std(axis=0))\n",
    "print()\n",
    "print(\"Test data statistics before normalization:\")\n",
    "print(\"  * mean:\", X_test.mean(axis=0))\n",
    "print(\"  * std:\", X_test.std(axis=0))\n",
    "print()\n",
    "\n",
    "train_mean = X_train.mean(axis=0)\n",
    "train_std = X_train.std(axis=0)\n",
    "X_train = (X_train - train_mean) / train_std\n",
    "X_test = (X_test - train_mean) / train_std\n",
    "\n",
    "print(\"Training data statistics after normalization:\")\n",
    "print(\"  * mean:\", X_train.mean(axis=0))\n",
    "print(\"  * std:\", X_train.std(axis=0))\n",
    "print()\n",
    "print(\"Test data statistics after normalization:\")\n",
    "print(\"  * mean:\", X_test.mean(axis=0))\n",
    "print(\"  * std:\", X_test.std(axis=0))"
   ]
  },
  {
   "cell_type": "markdown",
   "metadata": {
    "id": "szaZLcuDZQp7"
   },
   "source": [
    "## Problem 1: Generative Classifiers (Linear Discriminant Analysis)"
   ]
  },
  {
   "cell_type": "markdown",
   "metadata": {
    "id": "HpCEelC1Z9X5"
   },
   "source": [
    "Consider a classifier that predicts the class label $\\widehat{y}$ for an observed feature vector $\\mathbf{x}$ using the *maximum a posteriori* (MAP) classification rule:\n",
    "\n",
    "$$\n",
    "\\widehat{y} = \\arg\\max_y p(y \\mid \\mathbf{x}).\n",
    "$$\n",
    "\n",
    "Assume the following:\n",
    "1. The distribution of $\\mathbf{x} \\mid y$ is Gaussian.\n",
    "2. The covariance matrix is shared by all the classes.\n",
    "\n",
    "In the cell below, you have the skeleton of a `LDAClassifier` class that you will complete throughout this exercise to implement this classifier.\n"
   ]
  },
  {
   "cell_type": "code",
   "execution_count": 3,
   "metadata": {
    "id": "7gUX6cTxY2CS"
   },
   "outputs": [],
   "source": [
    "import numpy as np\n",
    "from scipy.stats import multivariate_normal\n",
    "\n",
    "class LDAClassifier:\n",
    "    def fit(self, X: np.ndarray, y: np.ndarray) -> None:\n",
    "        \"\"\"\n",
    "        Estimate the parameters of the classifier from the training data.\n",
    "\n",
    "        Parameters:\n",
    "        X: np.ndarray of shape (num_examples, num_features)\n",
    "            The input data (features).\n",
    "        y: np.ndarray of shape (num_examples,)\n",
    "            The corresponding labels (target values).\n",
    "        \"\"\"\n",
    "        # ToDo: Exercise 1.2\n",
    "        # **Replace `pass` with your code**\n",
    "        num_examples, num_features = X.shape\n",
    "        self.classes = np.unique(y)\n",
    "        num_classes = len(self.classes)\n",
    "\n",
    "        self.means = np.zeros((num_classes, num_features))\n",
    "        self.priors = np.zeros(num_classes)\n",
    "\n",
    "        for idx, cls in enumerate(self.classes):\n",
    "            X_cls = X[y == cls]\n",
    "            self.means[idx] = X_cls.mean(axis=0)\n",
    "            self.priors[idx] = X_cls.shape[0] / X.shape[0]\n",
    "\n",
    "        cov_matrix = np.zeros((num_features, num_features))\n",
    "        for idx, cls in enumerate(self.classes):\n",
    "            X_cls = X[y == cls]\n",
    "            cov_matrix += np.dot((X_cls - self.means[idx]).T, (X_cls - self.means[idx]))\n",
    "        self.covariance = cov_matrix / (X.shape[0] - num_classes)\n",
    "\n",
    "    def predict_proba(self, X: np.ndarray) -> np.ndarray:\n",
    "        \"\"\"\n",
    "        Predict the class probabilities for the given input data.\n",
    "\n",
    "        Parameters:\n",
    "        X: np.ndarray of shape (num_examples, num_features)\n",
    "            The input data (features).\n",
    "\n",
    "        Returns:\n",
    "        np.ndarray of shape (num_examples, num_classes)\n",
    "            The predicted probabilities for each class.\n",
    "        \"\"\"\n",
    "        # ToDo: Exercise 1.3\n",
    "        # **Replace `pass` with your code**\n",
    "        num_samples = X.shape[0]\n",
    "        num_classes = len(self.classes)\n",
    "        \n",
    "        probs = np.zeros((num_samples, num_classes))\n",
    "        \n",
    "        def pda_multivariate_normal(mean: np.ndarray, cov: np.ndarray, x: np.ndarray):\n",
    "            F = mean.shape[0]\n",
    "            temp = x - mean\n",
    "            det_cov = np.linalg.det(cov)\n",
    "            inv_cov = np.linalg.inv(cov)\n",
    "            diagonal = np.einsum('ni,ij,nj->n', temp, inv_cov, temp)\n",
    "            prefactor = 1 / np.sqrt((2 * np.pi)**F * det_cov)\n",
    "            return prefactor * np.exp(-0.5 * diagonal)\n",
    "\n",
    "        for idx, cls in enumerate(self.classes):\n",
    "            mean = self.means[idx]\n",
    "            cov = self.covariance\n",
    "            likelihood = pda_multivariate_normal(mean,cov, X)\n",
    "            probs[:, idx] = likelihood * self.priors[idx]\n",
    "        \n",
    "        probs_sum = probs.sum(axis=1, keepdims=True)\n",
    "        probs = probs / probs_sum\n",
    "        return probs\n",
    "\n",
    "    def predict(self, X: np.ndarray) -> np.ndarray:\n",
    "        \"\"\"\n",
    "        Predict the class labels for the input data using the estimated model parameters.\n",
    "\n",
    "        Parameters:\n",
    "        X: np.ndarray of shape (num_examples, num_features)\n",
    "            The input data (features) for which predictions are needed.\n",
    "\n",
    "        Returns:\n",
    "        np.ndarray of shape (num_examples,)\n",
    "            The predicted class labels.\n",
    "        \"\"\"\n",
    "        # ToDo: Exercise 1.4\n",
    "        # **Replace `pass` with your code**\n",
    "        probs = self.predict_proba(X)\n",
    "        \n",
    "        \n",
    "        predictions = np.argmax(probs, axis=1)\n",
    "        return self.classes[predictions]\n"
   ]
  },
  {
   "cell_type": "markdown",
   "metadata": {
    "id": "aVHMijtxYpoE"
   },
   "source": [
    "### 1.1\n",
    "Based on the assumptions given before, **identify all the parameters** in the model and **write down the expressions for their maximum likelihood estimates**. You do not need to show the derivation of the expressions, just the final result."
   ]
  },
  {
   "cell_type": "markdown",
   "metadata": {
    "id": "HiJf1aP7cZkT"
   },
   "source": [
    "**Notation:**\n",
    "- $N_i$: sample size in class $c_i$\n",
    "- $N$: sample size\n",
    "- $K$: number of classes\n",
    "\n",
    "\n",
    "**Prior of class $c_i$**:\n",
    "\n",
    "$\n",
    "\\hat{P}(c_i) = \\frac{N_i}{N}\n",
    "$\n",
    "\n",
    "**Mean of class $c_i$**:\n",
    "\n",
    "$\n",
    "\\hat{\\mu}_i = \\frac{1}{N_i - 1} \\sum_{i:y_i = y}X_i\n",
    "$\n",
    "\n",
    "**Covariance Matrix of $c_i$**:\n",
    "\n",
    "$\n",
    "\\hat{\\sum}_i = \\frac{1}{N_i - 1} \\sum_{i = 1}^{N}(X_i - \\hat{\\mu}_{y_i})(X_i - \\hat{\\mu}_{y_i})^T\n",
    "$\n",
    "\n",
    "**Pooled covariance matrix $c_i$**:\n",
    "\n",
    "$\n",
    "\\hat{\\sum} = \\frac{1}{N - K} \\sum_{i = 1}^{K}(N_i - 1)\\hat{\\sum}_i\n",
    "$\n",
    "\n",
    "$\n",
    "= \\frac{1}{N - K} \\sum_{i = 1}^{K}(X_i - \\hat{\\mu}_{y_i})(X_i - \\hat{\\mu}_{y_i})^T\n",
    "$"
   ]
  },
  {
   "cell_type": "markdown",
   "metadata": {
    "id": "Sf85q0JTdhpM"
   },
   "source": [
    "### 1.2\n",
    "In this exercise, you should write the code for the `fit` method of this classifier. This method should **estimate all model parameters** using the data provided as arguments. Specifically:\n",
    "\n",
    "- `X`: A NumPy array of shape `(num_examples, num_features)` containing the training input examples $\\mathbf{x}_1, \\mathbf{x}_2, \\dots, \\mathbf{x}_n$.\n",
    "- `y`: A NumPy array of shape `(num_examples,)` containing the corresponding labels $y_1, y_2, \\dots, y_n$.\n",
    "\n",
    "The model parameters should be saved as class attributes, so they can be used later during prediction.\n",
    "\n",
    "After implementing the function, run the cell below to make sure that all the assertions pass and that the model parameter names and values are printed.\n"
   ]
  },
  {
   "cell_type": "code",
   "execution_count": 4,
   "metadata": {
    "id": "OXq8kE-PZgzF"
   },
   "outputs": [
    {
     "name": "stdout",
     "output_type": "stream",
     "text": [
      "Classifier attributes:\n",
      "  * classes, shape (6,): [0 1 2 3 4 5]\n",
      "  * means, shape (6, 11): [[ 1.37106912e-01  2.00725764e+00 -4.22060885e-01  1.25763224e-01\n",
      "   8.43198752e-01 -4.25074483e-01 -6.24831922e-01  4.61367497e-01\n",
      "   4.34272965e-01 -5.54625151e-01 -4.35939868e-01]\n",
      " [-2.69879785e-01  6.80509915e-01 -3.01228692e-01  5.76371290e-02\n",
      "   1.74129734e-01 -2.46536238e-01 -2.00871210e-01 -1.57623531e-01\n",
      "   2.66427180e-01 -2.57752328e-01 -2.01241142e-01]\n",
      " [-6.28732712e-02  2.80444275e-01 -1.28167508e-01  1.39499189e-02\n",
      "   8.84356273e-02  1.03727345e-01  3.17583390e-01  2.08867168e-01\n",
      "  -6.18446834e-02 -2.18073674e-01 -5.01012554e-01]\n",
      " [ 8.15345524e-04 -1.75140616e-01  5.84670637e-03 -6.61630507e-02\n",
      "  -4.65407032e-02 -2.28261122e-02 -1.98174787e-01 -8.46028330e-02\n",
      "   7.80116953e-02  1.06442906e-01  2.14973258e-01]\n",
      " [ 2.43136358e-01 -6.90115339e-01  4.72653602e-01  1.26863397e-01\n",
      "  -2.32386401e-01 -1.77496745e-01 -3.57332901e-01 -4.13927324e-01\n",
      "  -8.47228373e-02  4.78677468e-01  1.04271341e+00]\n",
      " [ 4.27348421e-01 -5.76007202e-01  7.62094604e-01  1.23816764e-01\n",
      "  -3.65251898e-01 -2.68177237e-01 -4.48181625e-01 -4.84107698e-01\n",
      "  -4.93390835e-01  6.31252702e-01  1.38395863e+00]]\n",
      "  * priors, shape (6,): [0.0080429  0.03217158 0.43431635 0.39142091 0.1233244  0.01072386]\n",
      "  * covariance, shape (11, 11): [[ 0.99185791 -0.2121593   0.6407643   0.1190726   0.11123889 -0.13836573\n",
      "  -0.08337088  0.6787589  -0.67692057  0.13942941 -0.0976629 ]\n",
      " [-0.2121593   0.84878973 -0.47931437 -0.00503167  0.01763438 -0.0356702\n",
      "   0.00119635 -0.05551758  0.21245081 -0.17773231 -0.02534906]\n",
      " [ 0.6407643  -0.47931437  0.95986782  0.16788067  0.24222922 -0.04259647\n",
      "   0.08889401  0.41062754 -0.52664782  0.25618725  0.01047294]\n",
      " [ 0.1190726  -0.00503167  0.16788067  1.001187    0.0647507   0.15263664\n",
      "   0.16655545  0.38013492 -0.09036379  0.00879145  0.04309229]\n",
      " [ 0.11123889  0.01763438  0.24222922  0.0647507   0.98625924 -0.00920229\n",
      "   0.01441464  0.16619225 -0.26742823  0.39440265 -0.13816211]\n",
      " [-0.13836573 -0.0356702  -0.04259647  0.15263664 -0.00920229  0.99237891\n",
      "   0.64314801 -0.04786564  0.05826412  0.06942813 -0.04390487]\n",
      " [-0.08337088  0.00119635  0.08889401  0.16655545  0.01441464  0.64314801\n",
      "   0.92343509  0.01647462 -0.06328205  0.09085758 -0.09634875]\n",
      " [ 0.6787589  -0.05551758  0.41062754  0.38013492  0.16619225 -0.04786564\n",
      "   0.01647462  0.95722923 -0.32980707  0.18221407 -0.36132685]\n",
      " [-0.67692057  0.21245081 -0.52664782 -0.09036379 -0.26742823  0.05826412\n",
      "  -0.06328205 -0.32980707  0.99399017 -0.18901265  0.19996288]\n",
      " [ 0.13942941 -0.17773231  0.25618725  0.00879145  0.39440265  0.06942813\n",
      "   0.09085758  0.18221407 -0.18901265  0.94282387 -0.01806321]\n",
      " [-0.0976629  -0.02534906  0.01047294  0.04309229 -0.13816211 -0.04390487\n",
      "  -0.09634875 -0.36132685  0.19996288 -0.01806321  0.71929272]]\n"
     ]
    }
   ],
   "source": [
    "# instantiate the classifier and train it\n",
    "lda_clf = LDAClassifier()\n",
    "lda_clf.fit(X_train, y_train)\n",
    "\n",
    "assert lda_clf.__dict__.keys(), (\"`fit` method not implemented yet or not \"\n",
    "\"creating the class attributes.\")\n",
    "print(\"Classifier attributes:\")\n",
    "for attr, value in lda_clf.__dict__.items():\n",
    "    shape = f\", shape {value.shape}\" if hasattr(value, \"shape\") else \"\"\n",
    "    print(f\"  * {attr}{shape}: {value}\")"
   ]
  },
  {
   "cell_type": "markdown",
   "metadata": {
    "id": "RSLu9JeJbMBS"
   },
   "source": [
    "### 1.3\n",
    "Implement the `predict_proba` method of the `LDAClassifier` class. This method should use the model parameters estimated during the `fit` method to **predict the probabilities of each class** for new input data. Specifically, the input is:\n",
    "\n",
    "- `X`: A NumPy array of shape `(num_examples, num_features)` containing the input examples $\\mathbf{x}_1, \\mathbf{x}_2, \\dots, \\mathbf{x}_n$ for which predictions are needed.\n",
    "\n",
    "The method should return a NumPy array of shape `(num_examples, num_classes)` containing the predicted probabilities $p(y=0 \\mid \\mathbf{x}_i), p(y=1 \\mid \\mathbf{x}_i), \\dots, p(y=C-1 \\mid \\mathbf{x}_i)$, for $i \\in \\{1, 2, \\dots, n\\}$.\n",
    "\n",
    "After implementing the function, run the cell below to make sure that all the assertions pass."
   ]
  },
  {
   "cell_type": "code",
   "execution_count": 5,
   "metadata": {
    "id": "S-7e3TzWcOnH"
   },
   "outputs": [
    {
     "name": "stdout",
     "output_type": "stream",
     "text": [
      "Your `predict_proba` looks good! 🚀\n"
     ]
    }
   ],
   "source": [
    "# instantiate the classifier\n",
    "# (we need to do this again because you probably changed the code of LDAClassifier\n",
    "# after you ran the previous cell)\n",
    "lda_clf = LDAClassifier()\n",
    "lda_clf.fit(X_train, y_train)\n",
    "\n",
    "# predict the class probabilities for the training data\n",
    "probs = lda_clf.predict_proba(X_train)\n",
    "\n",
    "assert probs is not None, (\"`predict_proba` method not implemented yet or \"\n",
    "\"not returning a valid array.\")\n",
    "assert probs.shape == (len(X_train), 6), (\"`predict_proba` output should \"\n",
    "\"have shape (num_examples, num_classes).\")\n",
    "assert np.all((probs >= 0) * (probs <= 1)), (\"`predict_proba` output should be \"\n",
    "\"probabilities.\")\n",
    "assert np.allclose(probs.sum(axis=1), 1), (\"`predict_proba` output should be a \"\n",
    "\"(proper) probability distribution.\")\n",
    "print(\"Your `predict_proba` looks good! 🚀\")"
   ]
  },
  {
   "cell_type": "markdown",
   "metadata": {
    "id": "s4LLeAaQgLzQ"
   },
   "source": [
    "### 1.4\n",
    "Implement the `predict` method of the `LDAClassifier` class. This method should **predict the class labels** for new input data, by applying the MAP rule. Specifically, the input is:\n",
    "\n",
    "- `X`: A NumPy array of shape `(num_examples, num_features)` containing the input examples $\\mathbf{x}_1, \\mathbf{x}_2, \\dots, \\mathbf{x}_n$ for which predictions are needed.\n",
    "\n",
    "The method should return a NumPy array of shape `(num_examples,)` containing the predicted class labels $\\widehat{y}_1, \\widehat{y}_2, \\dots, \\widehat{y}_n$.\n",
    "\n",
    "After implementing the function, run the cell below to make sure that all the assertions pass and that a summary of the model predictions is printed.\n"
   ]
  },
  {
   "cell_type": "code",
   "execution_count": 6,
   "metadata": {
    "id": "pp4b2ax3eoYS"
   },
   "outputs": [
    {
     "name": "stdout",
     "output_type": "stream",
     "text": [
      "Your classifier predicted:\n",
      "  * 8 training examples in class 0.\n",
      "  * 1 training examples in class 1.\n",
      "  * 547 training examples in class 2.\n",
      "  * 453 training examples in class 3.\n",
      "  * 109 training examples in class 4.\n",
      "  * 1 training examples in class 5.\n",
      "\n",
      "Your classifier predicted:\n",
      "  * 3 test examples in class 0.\n",
      "  * 0 test examples in class 1.\n",
      "  * 227 test examples in class 2.\n",
      "  * 192 test examples in class 3.\n",
      "  * 58 test examples in class 4.\n",
      "  * 0 test examples in class 5.\n"
     ]
    }
   ],
   "source": [
    "# instantiate the classifier\n",
    "# (we need to do this again because you probably changed the code of LDAClassifier\n",
    "# after you ran the previous cell)\n",
    "lda_clf = LDAClassifier()\n",
    "lda_clf.fit(X_train, y_train)\n",
    "\n",
    "# predict the class labels for the training data\n",
    "y_train_pred = lda_clf.predict(X_train)\n",
    "assert y_train_pred is not None, (\"`predict` method not implemented yet or not returning \"\n",
    "\"any predictions.\")\n",
    "assert len(y_train_pred) == len(X_train), (\"You should have one predicted \"\n",
    "\"label for each input example.\")\n",
    "print(\"Your classifier predicted:\")\n",
    "for j in range(6):\n",
    "    print(f\"  * {(y_train_pred == j).sum()} training examples in class {j}.\")\n",
    "print()\n",
    "\n",
    "# predict the class labels for the test data\n",
    "y_test_pred = lda_clf.predict(X_test)\n",
    "assert y_test_pred is not None, (\"`predict` method not implemented yet or not returning \"\n",
    "\"any predictions.\")\n",
    "assert len(y_test_pred) == len(X_test), (\"You should have one predicted \"\n",
    "\"label for each input example.\")\n",
    "print(\"Your classifier predicted:\")\n",
    "for j in range(6):\n",
    "    print(f\"  * {(y_test_pred == j).sum()} test examples in class {j}.\")"
   ]
  },
  {
   "cell_type": "markdown",
   "metadata": {
    "id": "6465-BowhHoB"
   },
   "source": [
    "### 1.5\n",
    "Complete the code of the function `compute_accuracy`, which **computes the accuracy** of a given set of predictions when compared to the ground-truth labels. This function will be used to compute the training and test accuracies of our `LDAClassifier`.\n",
    "\n",
    "After implementing the function, run the cell below to make sure that all the assertions pass and that the values of the training and test accuracies are reasonable."
   ]
  },
  {
   "cell_type": "code",
   "execution_count": 7,
   "metadata": {
    "id": "OFq5rhpzhG5s"
   },
   "outputs": [
    {
     "name": "stdout",
     "output_type": "stream",
     "text": [
      "Training accuracy: 0.624\n",
      "Test accuracy: 0.565\n"
     ]
    }
   ],
   "source": [
    "def compute_accuracy(y_true: np.ndarray, y_pred: np.ndarray) -> float:\n",
    "    \"\"\"\n",
    "    Computes the accuracy of the classifier.\n",
    "\n",
    "    Parameters:\n",
    "    y_true: np.ndarray of shape (num_examples,)\n",
    "        The true class labels.\n",
    "    y_pred: np.ndarray of shape (num_examples,)\n",
    "        The predicted class labels.\n",
    "\n",
    "    Returns:\n",
    "    float\n",
    "        The accuracy of the classifier.\n",
    "    \"\"\"\n",
    "    # ToDo:\n",
    "    # **Replace `pass` with your code**\n",
    "    num_correct = np.sum(y_true == y_pred)\n",
    "    \n",
    "    accuracy = num_correct / len(y_true)\n",
    "    \n",
    "    return accuracy\n",
    "\n",
    "\n",
    "# compute the training accuracy\n",
    "train_accuracy = compute_accuracy(y_train, y_train_pred)\n",
    "assert train_accuracy is not None, (\"`compute_accuracy` not implemented yet or \"\n",
    "\"not returning a valid float.\")\n",
    "print(f\"Training accuracy: {train_accuracy:.3f}\")\n",
    "\n",
    "# compute the test accuracy\n",
    "test_accuracy = compute_accuracy(y_test, y_test_pred)\n",
    "assert test_accuracy is not None, (\"`compute_accuracy` not implemented yet or \"\n",
    "\"not returning a valid float.\")\n",
    "print(f\"Test accuracy: {test_accuracy:.3f}\")\n"
   ]
  },
  {
   "cell_type": "markdown",
   "metadata": {
    "id": "VCBIKZOiB4_N"
   },
   "source": [
    "### 1.6\n",
    "Explain why normalizing features to have zero mean and unit variance is an important preprocessing step **for this classifier**."
   ]
  },
  {
   "cell_type": "markdown",
   "metadata": {
    "id": "-nbSsfDoCSCv"
   },
   "source": [
    "LDA assumes that the features within each category follow a Gaussian distribution and that all categories share the same covariance matrix. Normalizing the training data helps align the features to this assumption by standardizing their scales and variances, thereby reducing errors."
   ]
  },
  {
   "cell_type": "markdown",
   "metadata": {
    "id": "s1Xz8j4Ulnbr"
   },
   "source": [
    "## Problem 2: Quadratic Discriminant Analysis (QDA)"
   ]
  },
  {
   "cell_type": "markdown",
   "metadata": {},
   "source": [
    "You should now repeat the analysis performed on the previous exercise (items 1.2 to 1.5), but now using the QDA model. At the end, compare the performance of both methods and define which one would you choose to deploy. In the cell below, you have the skeleton of a `QDAClassifier` class that you will complete throughout this exercise to implement this classifier."
   ]
  },
  {
   "cell_type": "code",
   "execution_count": 8,
   "metadata": {},
   "outputs": [],
   "source": [
    "import numpy as np\n",
    "from scipy.stats import multivariate_normal\n",
    "\n",
    "class QDAClassifier:\n",
    "    def fit(self, X: np.ndarray, y: np.ndarray) -> None:\n",
    "        \"\"\"\n",
    "        Estimate the parameters of the classifier from the training data.\n",
    "\n",
    "        Parameters:\n",
    "        X: np.ndarray of shape (num_examples, num_features)\n",
    "            The input data (features).\n",
    "        y: np.ndarray of shape (num_examples,)\n",
    "            The corresponding labels (target values).\n",
    "        \"\"\"\n",
    "        # ToDo:\n",
    "        # **Replace `pass` with your code**\n",
    "        pass\n",
    "\n",
    "    def predict_proba(self, X: np.ndarray) -> np.ndarray:\n",
    "        \"\"\"\n",
    "        Predict the class probabilities for the given input data.\n",
    "\n",
    "        Parameters:\n",
    "        X: np.ndarray of shape (num_examples, num_features)\n",
    "            The input data (features).\n",
    "\n",
    "        Returns:\n",
    "        np.ndarray of shape (num_examples, num_classes)\n",
    "            The predicted probabilities for each class.\n",
    "        \"\"\"\n",
    "        # ToDo:\n",
    "        # **Replace `pass` with your code**\n",
    "        pass\n",
    "\n",
    "    def predict(self, X: np.ndarray) -> np.ndarray:\n",
    "        \"\"\"\n",
    "        Predict the class labels for the input data using the estimated model parameters.\n",
    "\n",
    "        Parameters:\n",
    "        X: np.ndarray of shape (num_examples, num_features)\n",
    "            The input data (features) for which predictions are needed.\n",
    "\n",
    "        Returns:\n",
    "        np.ndarray of shape (num_examples,)\n",
    "            The predicted class labels.\n",
    "        \"\"\"\n",
    "        # ToDo:\n",
    "        # **Replace `pass` with your code**\n",
    "        pass\n"
   ]
  },
  {
   "cell_type": "markdown",
   "metadata": {},
   "source": [
    "### 2.1\n",
    "\n",
    "What is the difference between the estimated parameters of LDA and QDA?"
   ]
  },
  {
   "cell_type": "markdown",
   "metadata": {},
   "source": [
    "*Your answer here*"
   ]
  },
  {
   "cell_type": "markdown",
   "metadata": {},
   "source": [
    "### 2.2\n",
    "\n",
    "Write your fit method:"
   ]
  },
  {
   "cell_type": "code",
   "execution_count": 9,
   "metadata": {},
   "outputs": [
    {
     "ename": "AssertionError",
     "evalue": "`fit` method not implemented yet or not creating the class attributes.",
     "output_type": "error",
     "traceback": [
      "\u001b[1;31m---------------------------------------------------------------------------\u001b[0m",
      "\u001b[1;31mAssertionError\u001b[0m                            Traceback (most recent call last)",
      "Cell \u001b[1;32mIn[9], line 5\u001b[0m\n\u001b[0;32m      2\u001b[0m qda_clf \u001b[38;5;241m=\u001b[39m QDAClassifier()\n\u001b[0;32m      3\u001b[0m qda_clf\u001b[38;5;241m.\u001b[39mfit(X_train, y_train)\n\u001b[1;32m----> 5\u001b[0m \u001b[38;5;28;01massert\u001b[39;00m qda_clf\u001b[38;5;241m.\u001b[39m\u001b[38;5;18m__dict__\u001b[39m\u001b[38;5;241m.\u001b[39mkeys(), (\u001b[38;5;124m\"\u001b[39m\u001b[38;5;124m`fit` method not implemented yet or not \u001b[39m\u001b[38;5;124m\"\u001b[39m\n\u001b[0;32m      6\u001b[0m \u001b[38;5;124m\"\u001b[39m\u001b[38;5;124mcreating the class attributes.\u001b[39m\u001b[38;5;124m\"\u001b[39m)\n\u001b[0;32m      7\u001b[0m \u001b[38;5;28mprint\u001b[39m(\u001b[38;5;124m\"\u001b[39m\u001b[38;5;124mClassifier attributes:\u001b[39m\u001b[38;5;124m\"\u001b[39m)\n\u001b[0;32m      8\u001b[0m \u001b[38;5;28;01mfor\u001b[39;00m attr, value \u001b[38;5;129;01min\u001b[39;00m qda_clf\u001b[38;5;241m.\u001b[39m\u001b[38;5;18m__dict__\u001b[39m\u001b[38;5;241m.\u001b[39mitems():\n",
      "\u001b[1;31mAssertionError\u001b[0m: `fit` method not implemented yet or not creating the class attributes."
     ]
    }
   ],
   "source": [
    "# instantiate the classifier and train it\n",
    "qda_clf = QDAClassifier()\n",
    "qda_clf.fit(X_train, y_train)\n",
    "\n",
    "assert qda_clf.__dict__.keys(), (\"`fit` method not implemented yet or not \"\n",
    "\"creating the class attributes.\")\n",
    "print(\"Classifier attributes:\")\n",
    "for attr, value in qda_clf.__dict__.items():\n",
    "    shape = f\", shape {value.shape}\" if hasattr(value, \"shape\") else \"\"\n",
    "    print(f\"  * {attr}{shape}: {value}\")"
   ]
  },
  {
   "cell_type": "markdown",
   "metadata": {},
   "source": [
    "### 2.3\n",
    "\n",
    "Implement the predict_proba method:"
   ]
  },
  {
   "cell_type": "code",
   "execution_count": null,
   "metadata": {},
   "outputs": [],
   "source": [
    "# instantiate the classifier\n",
    "# (we need to do this again because you probably changed the code of QDAClassifier\n",
    "# after you ran the previous cell)\n",
    "qda_clf = QDAClassifier()\n",
    "qda_clf.fit(X_train, y_train)\n",
    "\n",
    "# predict the class probabilities for the training data\n",
    "probs = qda_clf.predict_proba(X_train)\n",
    "\n",
    "assert probs is not None, (\"`predict_proba` method not implemented yet or \"\n",
    "\"not returning a valid array.\")\n",
    "assert probs.shape == (len(X_train), 6), (\"`predict_proba` output should \"\n",
    "\"have shape (num_examples, num_classes).\")\n",
    "assert np.all((probs >= 0) * (probs <= 1)), (\"`predict_proba` output should be \"\n",
    "\"probabilities.\")\n",
    "assert np.allclose(probs.sum(axis=1), 1), (\"`predict_proba` output should be a \"\n",
    "\"(proper) probability distribution.\")\n",
    "print(\"Your `predict_proba` looks good! 🚀\")"
   ]
  },
  {
   "cell_type": "markdown",
   "metadata": {},
   "source": [
    "### 2.4 \n",
    "\n",
    "Write your predict method:"
   ]
  },
  {
   "cell_type": "code",
   "execution_count": null,
   "metadata": {},
   "outputs": [],
   "source": [
    "# instantiate the classifier\n",
    "# (we need to do this again because you probably changed the code of QDAClassifier\n",
    "# after you ran the previous cell)\n",
    "qda_clf = QDAClassifier()\n",
    "qda_clf.fit(X_train, y_train)\n",
    "\n",
    "# predict the class labels for the training data\n",
    "y_train_pred = qda_clf.predict(X_train)\n",
    "assert y_train_pred is not None, (\"`predict` method not implemented yet or not returning \"\n",
    "\"any predictions.\")\n",
    "assert len(y_train_pred) == len(X_train), (\"You should have one predicted \"\n",
    "\"label for each input example.\")\n",
    "print(\"Your classifier predicted:\")\n",
    "for j in range(6):\n",
    "    print(f\"  * {(y_train_pred == j).sum()} training examples in class {j}.\")\n",
    "print()\n",
    "\n",
    "# predict the class labels for the test data\n",
    "y_test_pred = qda_clf.predict(X_test)\n",
    "assert y_test_pred is not None, (\"`predict` method not implemented yet or not returning \"\n",
    "\"any predictions.\")\n",
    "assert len(y_test_pred) == len(X_test), (\"You should have one predicted \"\n",
    "\"label for each input example.\")\n",
    "print(\"Your classifier predicted:\")\n",
    "for j in range(6):\n",
    "    print(f\"  * {(y_test_pred == j).sum()} test examples in class {j}.\")"
   ]
  },
  {
   "cell_type": "markdown",
   "metadata": {},
   "source": [
    "### 2.5\n",
    "Using the compute_accuracy that you have already defined, compute the performance of the QDA on the given data. Compare the results with the ones obtained with LDA and define which one would you deploy."
   ]
  },
  {
   "cell_type": "code",
   "execution_count": null,
   "metadata": {},
   "outputs": [],
   "source": [
    "# compute the training accuracy\n",
    "train_accuracy = compute_accuracy(y_train, y_train_pred)\n",
    "assert train_accuracy is not None, (\"`compute_accuracy` not implemented yet or \"\n",
    "\"not returning a valid float.\")\n",
    "print(f\"Training accuracy: {train_accuracy:.3f}\")\n",
    "\n",
    "# compute the test accuracy\n",
    "test_accuracy = compute_accuracy(y_test, y_test_pred)\n",
    "assert test_accuracy is not None, (\"`compute_accuracy` not implemented yet or \"\n",
    "\"not returning a valid float.\")\n",
    "print(f\"Test accuracy: {test_accuracy:.3f}\")"
   ]
  },
  {
   "cell_type": "markdown",
   "metadata": {},
   "source": [
    "*Your answer here*"
   ]
  }
 ],
 "metadata": {
  "colab": {
   "provenance": []
  },
  "kernelspec": {
   "display_name": "Python 3",
   "name": "python3"
  },
  "language_info": {
   "codemirror_mode": {
    "name": "ipython",
    "version": 3
   },
   "file_extension": ".py",
   "mimetype": "text/x-python",
   "name": "python",
   "nbconvert_exporter": "python",
   "pygments_lexer": "ipython3",
   "version": "3.11.5"
  }
 },
 "nbformat": 4,
 "nbformat_minor": 0
}
